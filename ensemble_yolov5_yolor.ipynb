{
  "nbformat": 4,
  "nbformat_minor": 0,
  "metadata": {
    "colab": {
      "name": "ensemble_yolov5_yolor.ipynb",
      "provenance": [],
      "collapsed_sections": []
    },
    "kernelspec": {
      "name": "python3",
      "display_name": "Python 3"
    },
    "language_info": {
      "name": "python"
    },
    "accelerator": "GPU"
  },
  "cells": [
    {
      "cell_type": "code",
      "metadata": {
        "colab": {
          "base_uri": "https://localhost:8080/"
        },
        "id": "dCnoymSJLo_6",
        "outputId": "30cb893f-7df7-4d0e-8d33-ef6ffc2d3f23"
      },
      "source": [
        "from google.colab import drive\n",
        "drive.mount('/content/drive')"
      ],
      "execution_count": null,
      "outputs": [
        {
          "output_type": "stream",
          "name": "stdout",
          "text": [
            "Drive already mounted at /content/drive; to attempt to forcibly remount, call drive.mount(\"/content/drive\", force_remount=True).\n"
          ]
        }
      ]
    },
    {
      "cell_type": "code",
      "metadata": {
        "id": "QKxCmdmZMrP4"
      },
      "source": [
        "import os\n",
        "import numpy as np"
      ],
      "execution_count": null,
      "outputs": []
    },
    {
      "cell_type": "code",
      "metadata": {
        "id": "YmnabWqRbVft"
      },
      "source": [
        "yolov5_weights = '/content/drive/MyDrive/tick_YOLOv5_model_new_tick_data_augmentation/yolov5/runs/train/exp3/weights/best.pt'\n",
        "yolor_weights = '/content/drive/MyDrive/tick_YoloR_model_new_data_with_augmentation/yolor/runs/train/yolor_p6/weights/best.pt'"
      ],
      "execution_count": null,
      "outputs": []
    },
    {
      "cell_type": "code",
      "metadata": {
        "colab": {
          "base_uri": "https://localhost:8080/"
        },
        "id": "h8dgG4kNcO4b",
        "outputId": "9bceef4b-b3d3-4043-de49-85539d0bc190"
      },
      "source": [
        "cd /content/drive/MyDrive/ensemble_yolov5_yolor"
      ],
      "execution_count": null,
      "outputs": [
        {
          "output_type": "stream",
          "name": "stdout",
          "text": [
            "/content/drive/MyDrive/ensemble_yolov5_yolor\n"
          ]
        }
      ]
    },
    {
      "cell_type": "markdown",
      "metadata": {
        "id": "XziAtPmIeZBX"
      },
      "source": [
        "## YoloV5"
      ]
    },
    {
      "cell_type": "code",
      "metadata": {
        "colab": {
          "base_uri": "https://localhost:8080/"
        },
        "id": "VAfFPFoddiDo",
        "outputId": "ed51b6c9-87e6-4033-f317-bb8278cf1d1e"
      },
      "source": [
        "!git clone https://github.com/ultralytics/yolov5  # clone repo"
      ],
      "execution_count": null,
      "outputs": [
        {
          "output_type": "stream",
          "name": "stdout",
          "text": [
            "fatal: destination path 'yolov5' already exists and is not an empty directory.\n"
          ]
        }
      ]
    },
    {
      "cell_type": "code",
      "metadata": {
        "colab": {
          "base_uri": "https://localhost:8080/"
        },
        "id": "PUchZZbHeHwc",
        "outputId": "91a4b2d0-d29e-4958-b6e8-ef163cc5bf87"
      },
      "source": [
        "%cd /content/drive/MyDrive/ensemble_yolov5_yolor\n",
        "%pip install -qr requirements.txt  # install dependencies\n",
        "\n",
        "import torch\n",
        "from IPython.display import Image, clear_output  # to display images\n",
        "\n",
        "clear_output()\n",
        "print(f\"Setup complete. Using torch {torch.__version__} ({torch.cuda.get_device_properties(0).name if torch.cuda.is_available() else 'CPU'})\")"
      ],
      "execution_count": null,
      "outputs": [
        {
          "output_type": "stream",
          "name": "stdout",
          "text": [
            "Setup complete. Using torch 1.9.0+cu111 (Tesla P100-PCIE-16GB)\n"
          ]
        }
      ]
    },
    {
      "cell_type": "markdown",
      "metadata": {
        "id": "ON0xG9twecqN"
      },
      "source": [
        "## YoloR\n"
      ]
    },
    {
      "cell_type": "code",
      "metadata": {
        "colab": {
          "base_uri": "https://localhost:8080/"
        },
        "id": "gk9YeynVePPu",
        "outputId": "3ff15619-b9c3-41f3-e596-2ac1ad50b1ea"
      },
      "source": [
        "# clone YOLOR repository\n",
        "!git clone https://github.com/WongKinYiu/yolor"
      ],
      "execution_count": null,
      "outputs": [
        {
          "output_type": "stream",
          "name": "stdout",
          "text": [
            "fatal: destination path 'yolor' already exists and is not an empty directory.\n"
          ]
        }
      ]
    },
    {
      "cell_type": "code",
      "metadata": {
        "colab": {
          "base_uri": "https://localhost:8080/"
        },
        "id": "v9eZ2EWjeki_",
        "outputId": "b12e5579-0ad0-444f-bee0-dac186215088"
      },
      "source": [
        "cd yolor"
      ],
      "execution_count": null,
      "outputs": [
        {
          "output_type": "stream",
          "name": "stdout",
          "text": [
            "/content/drive/My Drive/ensemble_yolov5_yolor/yolor\n"
          ]
        }
      ]
    },
    {
      "cell_type": "code",
      "metadata": {
        "colab": {
          "base_uri": "https://localhost:8080/"
        },
        "id": "tduk0q4-enUk",
        "outputId": "460f3724-8239-4a92-a08e-8f76a4685a82"
      },
      "source": [
        "# Install necessary dependencies\n",
        "!pip install -qr requirements.txt"
      ],
      "execution_count": null,
      "outputs": [
        {
          "output_type": "stream",
          "name": "stdout",
          "text": [
            "\u001b[K     |████████████████████████████████| 596 kB 8.0 MB/s \n",
            "\u001b[K     |████████████████████████████████| 776.7 MB 4.7 kB/s \n",
            "\u001b[K     |████████████████████████████████| 12.7 MB 19.6 MB/s \n",
            "\u001b[K     |████████████████████████████████| 1.5 MB 28.3 MB/s \n",
            "\u001b[?25h  Building wheel for pycocotools (setup.py) ... \u001b[?25l\u001b[?25hdone\n",
            "\u001b[31mERROR: pip's dependency resolver does not currently take into account all the packages that are installed. This behaviour is the source of the following dependency conflicts.\n",
            "torchtext 0.10.0 requires torch==1.9.0, but you have torch 1.7.0 which is incompatible.\u001b[0m\n"
          ]
        }
      ]
    },
    {
      "cell_type": "code",
      "metadata": {
        "colab": {
          "base_uri": "https://localhost:8080/"
        },
        "id": "trCY3-KHerW6",
        "outputId": "4cf78b04-3b88-4b70-8b71-1066eb7caf5b"
      },
      "source": [
        "cd .."
      ],
      "execution_count": null,
      "outputs": [
        {
          "output_type": "stream",
          "name": "stdout",
          "text": [
            "/content/drive/My Drive/ensemble_yolov5_yolor\n"
          ]
        }
      ]
    },
    {
      "cell_type": "markdown",
      "metadata": {
        "id": "PDeH_jRieyOm"
      },
      "source": [
        "# Make detections"
      ]
    },
    {
      "cell_type": "markdown",
      "metadata": {
        "id": "o1xuKlmdkJus"
      },
      "source": [
        "### YOLOv5"
      ]
    },
    {
      "cell_type": "code",
      "metadata": {
        "colab": {
          "base_uri": "https://localhost:8080/"
        },
        "id": "hXi6Y6Zkex4m",
        "outputId": "09f6752e-c70d-43e9-b0ab-bd2de11b829c"
      },
      "source": [
        "cd yolov5"
      ],
      "execution_count": null,
      "outputs": [
        {
          "output_type": "stream",
          "name": "stdout",
          "text": [
            "/content/drive/MyDrive/ensemble_yolov5_yolor/yolov5\n"
          ]
        }
      ]
    },
    {
      "cell_type": "code",
      "metadata": {
        "colab": {
          "base_uri": "https://localhost:8080/"
        },
        "id": "Nkvrcp6sevgg",
        "outputId": "8aa093bc-1f04-4a46-d63f-dce0c512ef91"
      },
      "source": [
        "# yolov5\n",
        "\n",
        "!python detect.py --source /content/drive/MyDrive/tick_YOLOv5_model_new_tick_data_augmentation/custom/images/val --weights /content/drive/MyDrive/tick_YOLOv5_model_new_tick_data_augmentation/yolov5/runs/train/exp3/weights/best.pt --save-txt --save-conf --conf-thres 0.4"
      ],
      "execution_count": null,
      "outputs": [
        {
          "output_type": "stream",
          "name": "stdout",
          "text": [
            "Downloading https://ultralytics.com/assets/Arial.ttf to /root/.config/Ultralytics/Arial.ttf...\n",
            "\u001b[34m\u001b[1mdetect: \u001b[0mweights=['/content/drive/MyDrive/tick_YOLOv5_model_new_tick_data_augmentation/yolov5/runs/train/exp3/weights/best.pt'], source=/content/drive/MyDrive/tick_YOLOv5_model_new_tick_data_augmentation/custom/images/val, imgsz=[640, 640], conf_thres=0.4, iou_thres=0.45, max_det=1000, device=, view_img=False, save_txt=True, save_conf=True, save_crop=False, nosave=False, classes=None, agnostic_nms=False, augment=False, visualize=False, update=False, project=runs/detect, name=exp, exist_ok=False, line_thickness=3, hide_labels=False, hide_conf=False, half=False, dnn=False\n",
            "YOLOv5 🚀 v6.0-76-g79bca2b torch 1.7.0 CUDA:0 (Tesla P100-PCIE-16GB, 16281MiB)\n",
            "\n",
            "Fusing layers... \n",
            "Model Summary: 213 layers, 7039792 parameters, 0 gradients, 15.9 GFLOPs\n",
            "image 1/92 /content/drive/MyDrive/tick_YOLOv5_model_new_tick_data_augmentation/custom/images/val/1 (2).jpg: 384x640 1 dromedarii_male, Done. (0.016s)\n",
            "image 2/92 /content/drive/MyDrive/tick_YOLOv5_model_new_tick_data_augmentation/custom/images/val/12SF_180.jpg: 384x640 1 scupense_female, Done. (0.013s)\n",
            "image 3/92 /content/drive/MyDrive/tick_YOLOv5_model_new_tick_data_augmentation/custom/images/val/13DF_180.jpg: 384x640 1 dromedarii_female, Done. (0.011s)\n",
            "image 4/92 /content/drive/MyDrive/tick_YOLOv5_model_new_tick_data_augmentation/custom/images/val/16DF_90.jpg: 384x640 1 dromedarii_female, Done. (0.012s)\n",
            "image 5/92 /content/drive/MyDrive/tick_YOLOv5_model_new_tick_data_augmentation/custom/images/val/18DF_270.jpg: 384x640 1 dromedarii_female, Done. (0.011s)\n",
            "image 6/92 /content/drive/MyDrive/tick_YOLOv5_model_new_tick_data_augmentation/custom/images/val/1SF_90.jpg: 384x640 1 scupense_female, Done. (0.011s)\n",
            "image 7/92 /content/drive/MyDrive/tick_YOLOv5_model_new_tick_data_augmentation/custom/images/val/2 (4).jpg: 384x640 1 dromedarii_male, Done. (0.012s)\n",
            "image 8/92 /content/drive/MyDrive/tick_YOLOv5_model_new_tick_data_augmentation/custom/images/val/25DF_180.jpg: 384x640 1 dromedarii_female, Done. (0.012s)\n",
            "image 9/92 /content/drive/MyDrive/tick_YOLOv5_model_new_tick_data_augmentation/custom/images/val/25DF_90.jpg: 384x640 1 dromedarii_female, Done. (0.012s)\n",
            "image 10/92 /content/drive/MyDrive/tick_YOLOv5_model_new_tick_data_augmentation/custom/images/val/32DF_90.jpg: 384x640 1 dromedarii_female, Done. (0.012s)\n",
            "image 11/92 /content/drive/MyDrive/tick_YOLOv5_model_new_tick_data_augmentation/custom/images/val/4SF_180.jpg: 384x640 1 scupense_female, Done. (0.012s)\n",
            "image 12/92 /content/drive/MyDrive/tick_YOLOv5_model_new_tick_data_augmentation/custom/images/val/4SF_270.jpg: 384x640 1 scupense_female, Done. (0.011s)\n",
            "image 13/92 /content/drive/MyDrive/tick_YOLOv5_model_new_tick_data_augmentation/custom/images/val/6SF_180.jpg: 384x640 1 scupense_female, Done. (0.016s)\n",
            "image 14/92 /content/drive/MyDrive/tick_YOLOv5_model_new_tick_data_augmentation/custom/images/val/8SF_270.jpg: 640x384 1 scupense_female, Done. (0.013s)\n",
            "image 15/92 /content/drive/MyDrive/tick_YOLOv5_model_new_tick_data_augmentation/custom/images/val/978-3-642-28842-5_8_Fig4_HTML.png: 416x640 2 scupense_males, 2 impeltatum_females, Done. (0.013s)\n",
            "image 16/92 /content/drive/MyDrive/tick_YOLOv5_model_new_tick_data_augmentation/custom/images/val/DF (18).jpg: 384x640 1 dromedarii_female, Done. (0.013s)\n",
            "image 17/92 /content/drive/MyDrive/tick_YOLOv5_model_new_tick_data_augmentation/custom/images/val/DF (9).jpg: 384x640 1 dromedarii_female, Done. (0.012s)\n",
            "image 18/92 /content/drive/MyDrive/tick_YOLOv5_model_new_tick_data_augmentation/custom/images/val/DF_val (2).jpg: 384x640 1 dromedarii_female, Done. (0.020s)\n",
            "image 19/92 /content/drive/MyDrive/tick_YOLOv5_model_new_tick_data_augmentation/custom/images/val/DM (11).jpg: 384x640 1 dromedarii_male, Done. (0.011s)\n",
            "image 20/92 /content/drive/MyDrive/tick_YOLOv5_model_new_tick_data_augmentation/custom/images/val/DM (21).jpg: 384x640 1 dromedarii_male, Done. (0.013s)\n",
            "image 21/92 /content/drive/MyDrive/tick_YOLOv5_model_new_tick_data_augmentation/custom/images/val/DM (24).jpg: 640x384 1 dromedarii_male, Done. (0.012s)\n",
            "image 22/92 /content/drive/MyDrive/tick_YOLOv5_model_new_tick_data_augmentation/custom/images/val/DM (3).jpg: 640x384 1 dromedarii_male, Done. (0.014s)\n",
            "image 23/92 /content/drive/MyDrive/tick_YOLOv5_model_new_tick_data_augmentation/custom/images/val/DM (4).jpg: 384x640 1 dromedarii_male, Done. (0.012s)\n",
            "image 24/92 /content/drive/MyDrive/tick_YOLOv5_model_new_tick_data_augmentation/custom/images/val/DM (51).jpg: 384x640 1 dromedarii_male, Done. (0.028s)\n",
            "image 25/92 /content/drive/MyDrive/tick_YOLOv5_model_new_tick_data_augmentation/custom/images/val/DM (7).jpg: 384x640 1 dromedarii_male, Done. (0.011s)\n",
            "image 26/92 /content/drive/MyDrive/tick_YOLOv5_model_new_tick_data_augmentation/custom/images/val/DM_val (14).jpg: 384x640 1 dromedarii_male, Done. (0.011s)\n",
            "image 27/92 /content/drive/MyDrive/tick_YOLOv5_model_new_tick_data_augmentation/custom/images/val/DM_val (4).jpg: 384x640 1 dromedarii_male, Done. (0.011s)\n",
            "image 28/92 /content/drive/MyDrive/tick_YOLOv5_model_new_tick_data_augmentation/custom/images/val/H.Dr.F31.jpg: 384x640 1 dromedarii_female, Done. (0.011s)\n",
            "image 29/92 /content/drive/MyDrive/tick_YOLOv5_model_new_tick_data_augmentation/custom/images/val/H.Dr.F33.jpg: 384x640 1 dromedarii_female, Done. (0.011s)\n",
            "image 30/92 /content/drive/MyDrive/tick_YOLOv5_model_new_tick_data_augmentation/custom/images/val/H.Dr.F42.jpg: 640x384 1 dromedarii_female, Done. (0.013s)\n",
            "image 31/92 /content/drive/MyDrive/tick_YOLOv5_model_new_tick_data_augmentation/custom/images/val/H.Dr.F46.jpg: 640x384 1 dromedarii_female, Done. (0.018s)\n",
            "image 32/92 /content/drive/MyDrive/tick_YOLOv5_model_new_tick_data_augmentation/custom/images/val/H.Dr.F49.jpg: 384x640 1 impeltatum_female, 1 impeltatum_male, Done. (0.012s)\n",
            "image 33/92 /content/drive/MyDrive/tick_YOLOv5_model_new_tick_data_augmentation/custom/images/val/H.Dr.F6.jpg: 384x640 1 dromedarii_female, Done. (0.012s)\n",
            "image 34/92 /content/drive/MyDrive/tick_YOLOv5_model_new_tick_data_augmentation/custom/images/val/H.Dr.M11.jpg: 640x384 1 dromedarii_male, Done. (0.013s)\n",
            "image 35/92 /content/drive/MyDrive/tick_YOLOv5_model_new_tick_data_augmentation/custom/images/val/H.Dr.M14.jpg: 640x384 1 dromedarii_male, Done. (0.012s)\n",
            "image 36/92 /content/drive/MyDrive/tick_YOLOv5_model_new_tick_data_augmentation/custom/images/val/H.Dr.M20.jpg: 640x384 1 impeltatum_male, Done. (0.012s)\n",
            "image 37/92 /content/drive/MyDrive/tick_YOLOv5_model_new_tick_data_augmentation/custom/images/val/H.Dr.M24.jpg: 640x384 1 dromedarii_male, Done. (0.012s)\n",
            "image 38/92 /content/drive/MyDrive/tick_YOLOv5_model_new_tick_data_augmentation/custom/images/val/H.Dr.M35.jpg: 640x384 1 dromedarii_male, Done. (0.012s)\n",
            "image 39/92 /content/drive/MyDrive/tick_YOLOv5_model_new_tick_data_augmentation/custom/images/val/H.Ex.M13.jpg: 640x384 1 excavatum, Done. (0.011s)\n",
            "image 40/92 /content/drive/MyDrive/tick_YOLOv5_model_new_tick_data_augmentation/custom/images/val/H.Ex.M18.jpg: 384x640 1 impeltatum_male, 1 excavatum, Done. (0.013s)\n",
            "image 41/92 /content/drive/MyDrive/tick_YOLOv5_model_new_tick_data_augmentation/custom/images/val/H.Ex.M19.jpg: 640x384 1 excavatum, Done. (0.013s)\n",
            "image 42/92 /content/drive/MyDrive/tick_YOLOv5_model_new_tick_data_augmentation/custom/images/val/H.Imp.F1.jpg: 384x640 1 impeltatum_female, Done. (0.012s)\n",
            "image 43/92 /content/drive/MyDrive/tick_YOLOv5_model_new_tick_data_augmentation/custom/images/val/H.Imp.F6.jpg: 384x640 1 impeltatum_female, Done. (0.011s)\n",
            "image 44/92 /content/drive/MyDrive/tick_YOLOv5_model_new_tick_data_augmentation/custom/images/val/H.Imp.M13.jpg: 384x640 1 impeltatum_male, Done. (0.014s)\n",
            "image 45/92 /content/drive/MyDrive/tick_YOLOv5_model_new_tick_data_augmentation/custom/images/val/H.Imp.M29.jpg: 640x384 1 dromedarii_male, 1 impeltatum_male, Done. (0.012s)\n",
            "image 46/92 /content/drive/MyDrive/tick_YOLOv5_model_new_tick_data_augmentation/custom/images/val/H.Imp.M4.jpg: 384x640 1 dromedarii_male, Done. (0.039s)\n",
            "image 47/92 /content/drive/MyDrive/tick_YOLOv5_model_new_tick_data_augmentation/custom/images/val/H.Imp.M40.jpg: 384x640 1 impeltatum_male, Done. (0.012s)\n",
            "image 48/92 /content/drive/MyDrive/tick_YOLOv5_model_new_tick_data_augmentation/custom/images/val/HM11.jpg: 640x384 1 other_male, Done. (0.013s)\n",
            "image 49/92 /content/drive/MyDrive/tick_YOLOv5_model_new_tick_data_augmentation/custom/images/val/HM15.jpg: 640x384 1 other_male, Done. (0.012s)\n",
            "image 50/92 /content/drive/MyDrive/tick_YOLOv5_model_new_tick_data_augmentation/custom/images/val/HMM191.jpg: 384x640 Done. (0.012s)\n",
            "image 51/92 /content/drive/MyDrive/tick_YOLOv5_model_new_tick_data_augmentation/custom/images/val/HMM192.jpg: 384x640 Done. (0.011s)\n",
            "image 52/92 /content/drive/MyDrive/tick_YOLOv5_model_new_tick_data_augmentation/custom/images/val/HMM201.jpg: 384x640 1 dromedarii_male, Done. (0.012s)\n",
            "image 53/92 /content/drive/MyDrive/tick_YOLOv5_model_new_tick_data_augmentation/custom/images/val/HMM239.jpg: 384x640 1 marginatum_male, Done. (0.012s)\n",
            "image 54/92 /content/drive/MyDrive/tick_YOLOv5_model_new_tick_data_augmentation/custom/images/val/HMM31.jpg: 384x640 Done. (0.011s)\n",
            "image 55/92 /content/drive/MyDrive/tick_YOLOv5_model_new_tick_data_augmentation/custom/images/val/HMM81.jpg: 384x640 Done. (0.022s)\n",
            "image 56/92 /content/drive/MyDrive/tick_YOLOv5_model_new_tick_data_augmentation/custom/images/val/HSF101.jpg: 640x640 1 scupense_female, Done. (0.013s)\n",
            "image 57/92 /content/drive/MyDrive/tick_YOLOv5_model_new_tick_data_augmentation/custom/images/val/HSF102.jpg: 544x640 1 scupense_female, Done. (0.014s)\n",
            "image 58/92 /content/drive/MyDrive/tick_YOLOv5_model_new_tick_data_augmentation/custom/images/val/HSF13.jpg: 640x640 1 scupense_female, Done. (0.013s)\n",
            "image 59/92 /content/drive/MyDrive/tick_YOLOv5_model_new_tick_data_augmentation/custom/images/val/HSF162.jpg: 576x640 1 scupense_female, Done. (0.014s)\n",
            "image 60/92 /content/drive/MyDrive/tick_YOLOv5_model_new_tick_data_augmentation/custom/images/val/HSF171.jpg: 384x640 1 scupense_female, Done. (0.012s)\n",
            "image 61/92 /content/drive/MyDrive/tick_YOLOv5_model_new_tick_data_augmentation/custom/images/val/HSF173.jpg: 384x640 1 scupense_female, Done. (0.011s)\n",
            "image 62/92 /content/drive/MyDrive/tick_YOLOv5_model_new_tick_data_augmentation/custom/images/val/HSF188.jpg: 384x640 1 scupense_female, Done. (0.016s)\n",
            "image 63/92 /content/drive/MyDrive/tick_YOLOv5_model_new_tick_data_augmentation/custom/images/val/HSF194.jpg: 384x640 1 scupense_female, Done. (0.011s)\n",
            "image 64/92 /content/drive/MyDrive/tick_YOLOv5_model_new_tick_data_augmentation/custom/images/val/HSF261.jpg: 640x640 1 scupense_female, Done. (0.013s)\n",
            "image 65/92 /content/drive/MyDrive/tick_YOLOv5_model_new_tick_data_augmentation/custom/images/val/HSM101.jpg: 384x640 1 scupense_male, Done. (0.013s)\n",
            "image 66/92 /content/drive/MyDrive/tick_YOLOv5_model_new_tick_data_augmentation/custom/images/val/HSM102.jpg: 384x640 1 scupense_male, Done. (0.012s)\n",
            "image 67/92 /content/drive/MyDrive/tick_YOLOv5_model_new_tick_data_augmentation/custom/images/val/HSM30.jpg: 384x640 Done. (0.012s)\n",
            "image 68/92 /content/drive/MyDrive/tick_YOLOv5_model_new_tick_data_augmentation/custom/images/val/HSM41.jpg: 384x640 1 scupense_male, Done. (0.012s)\n",
            "image 69/92 /content/drive/MyDrive/tick_YOLOv5_model_new_tick_data_augmentation/custom/images/val/HSM52.jpg: 384x640 Done. (0.027s)\n",
            "image 70/92 /content/drive/MyDrive/tick_YOLOv5_model_new_tick_data_augmentation/custom/images/val/HSM61.jpg: 384x640 1 scupense_male, Done. (0.013s)\n",
            "image 71/92 /content/drive/MyDrive/tick_YOLOv5_model_new_tick_data_augmentation/custom/images/val/Hyalomma-detritum-male-I-Dorsal-view-white-arrow-showing-posteromedian-groove.png: 640x512 1 scupense_male, 1 impeltatum_male, Done. (0.014s)\n",
            "image 72/92 /content/drive/MyDrive/tick_YOLOv5_model_new_tick_data_augmentation/custom/images/val/IMG_20210128_103845_1.jpg: 640x384 1 dromedarii_male, Done. (0.012s)\n",
            "image 73/92 /content/drive/MyDrive/tick_YOLOv5_model_new_tick_data_augmentation/custom/images/val/IMG_20210128_105706.jpg: 384x640 1 dromedarii_male, Done. (0.013s)\n",
            "image 74/92 /content/drive/MyDrive/tick_YOLOv5_model_new_tick_data_augmentation/custom/images/val/IMG_20210128_110020.jpg: 384x640 1 dromedarii_male, Done. (0.012s)\n",
            "image 75/92 /content/drive/MyDrive/tick_YOLOv5_model_new_tick_data_augmentation/custom/images/val/IMG_20210128_110527.jpg: 640x384 1 dromedarii_female, Done. (0.013s)\n",
            "image 76/92 /content/drive/MyDrive/tick_YOLOv5_model_new_tick_data_augmentation/custom/images/val/IMG_20210128_112959.jpg: 384x640 1 dromedarii_female, Done. (0.013s)\n",
            "image 77/92 /content/drive/MyDrive/tick_YOLOv5_model_new_tick_data_augmentation/custom/images/val/IMG_20210326_110620.jpg: 384x640 1 scupense_male, Done. (0.012s)\n",
            "image 78/92 /content/drive/MyDrive/tick_YOLOv5_model_new_tick_data_augmentation/custom/images/val/IMG_20210326_114338.jpg: 384x640 1 scupense_male, Done. (0.011s)\n",
            "image 79/92 /content/drive/MyDrive/tick_YOLOv5_model_new_tick_data_augmentation/custom/images/val/IMG_20210326_123710.jpg: 384x640 1 scupense_female, Done. (0.012s)\n",
            "image 80/92 /content/drive/MyDrive/tick_YOLOv5_model_new_tick_data_augmentation/custom/images/val/IMG_20210326_123721.jpg: 384x640 1 scupense_female, Done. (0.011s)\n",
            "image 81/92 /content/drive/MyDrive/tick_YOLOv5_model_new_tick_data_augmentation/custom/images/val/IMG_20210326_124430.jpg: 384x640 1 scupense_female, Done. (0.014s)\n",
            "image 82/92 /content/drive/MyDrive/tick_YOLOv5_model_new_tick_data_augmentation/custom/images/val/IMG_20210326_124844.jpg: 384x640 1 scupense_male, Done. (0.012s)\n",
            "image 83/92 /content/drive/MyDrive/tick_YOLOv5_model_new_tick_data_augmentation/custom/images/val/IMG_20210326_124928.jpg: 384x640 1 scupense_male, Done. (0.011s)\n",
            "image 84/92 /content/drive/MyDrive/tick_YOLOv5_model_new_tick_data_augmentation/custom/images/val/IMG_20210326_125251.jpg: 384x640 1 scupense_male, Done. (0.011s)\n",
            "image 85/92 /content/drive/MyDrive/tick_YOLOv5_model_new_tick_data_augmentation/custom/images/val/IMG_20210326_125952.jpg: 384x640 1 scupense_male, Done. (0.012s)\n",
            "image 86/92 /content/drive/MyDrive/tick_YOLOv5_model_new_tick_data_augmentation/custom/images/val/SF_val (4).jpg: 384x640 1 scupense_female, Done. (0.011s)\n",
            "image 87/92 /content/drive/MyDrive/tick_YOLOv5_model_new_tick_data_augmentation/custom/images/val/SM (25).jpg: 384x640 1 scupense_male, Done. (0.011s)\n",
            "image 88/92 /content/drive/MyDrive/tick_YOLOv5_model_new_tick_data_augmentation/custom/images/val/SM (8).jpg: 384x640 1 scupense_male, Done. (0.013s)\n",
            "image 89/92 /content/drive/MyDrive/tick_YOLOv5_model_new_tick_data_augmentation/custom/images/val/aug_465.jpg: 640x384 2 marginatum_males, Done. (0.013s)\n",
            "image 90/92 /content/drive/MyDrive/tick_YOLOv5_model_new_tick_data_augmentation/custom/images/val/aug_466.jpg: 640x384 2 marginatum_males, Done. (0.016s)\n",
            "image 91/92 /content/drive/MyDrive/tick_YOLOv5_model_new_tick_data_augmentation/custom/images/val/aug_721.jpg: 640x384 2 impeltatum_females, Done. (0.012s)\n",
            "image 92/92 /content/drive/MyDrive/tick_YOLOv5_model_new_tick_data_augmentation/custom/images/val/aug_722.jpg: 384x640 2 scupense_males, 1 impeltatum_female, Done. (0.014s)\n",
            "Speed: 0.6ms pre-process, 13.2ms inference, 1.6ms NMS per image at shape (1, 3, 640, 640)\n",
            "Results saved to \u001b[1mruns/detect/exp9\u001b[0m\n",
            "86 labels saved to runs/detect/exp9/labels\n"
          ]
        }
      ]
    },
    {
      "cell_type": "code",
      "metadata": {
        "colab": {
          "base_uri": "https://localhost:8080/"
        },
        "id": "dUhlr4K_ewrv",
        "outputId": "296cb712-000f-4248-f274-72035857ed77"
      },
      "source": [
        "cd .."
      ],
      "execution_count": null,
      "outputs": [
        {
          "output_type": "stream",
          "name": "stdout",
          "text": [
            "/content/drive/My Drive/ensemble_yolov5_yolor\n"
          ]
        }
      ]
    },
    {
      "cell_type": "markdown",
      "metadata": {
        "id": "wnBpF-3OkP0_"
      },
      "source": [
        "### YOLOR"
      ]
    },
    {
      "cell_type": "code",
      "metadata": {
        "colab": {
          "base_uri": "https://localhost:8080/"
        },
        "id": "opPwvBOvewum",
        "outputId": "4d77f684-3a3b-4053-c9d5-1ee370277422"
      },
      "source": [
        "cd yolor"
      ],
      "execution_count": null,
      "outputs": [
        {
          "output_type": "stream",
          "name": "stdout",
          "text": [
            "/content/drive/My Drive/ensemble_yolov5_yolor/yolor\n"
          ]
        }
      ]
    },
    {
      "cell_type": "code",
      "metadata": {
        "colab": {
          "base_uri": "https://localhost:8080/"
        },
        "id": "G0jM5x7uewx6",
        "outputId": "86174e5f-5ea0-442d-c597-e8fb6aca4cb7"
      },
      "source": [
        "!python detect.py --source /content/drive/MyDrive/tick_YOLOv5_model_new_tick_data_augmentation/custom/images/val --weights /content/drive/MyDrive/tick_YoloR_model_new_data_with_augmentation/yolor/runs/train/yolor_p6/weights/best.pt --save-txt --img-size 640"
      ],
      "execution_count": null,
      "outputs": [
        {
          "output_type": "stream",
          "name": "stdout",
          "text": [
            "Namespace(agnostic_nms=False, augment=False, cfg='cfg/yolor_p6.cfg', classes=None, conf_thres=0.4, device='', img_size=640, iou_thres=0.5, names='data/coco.names', output='inference/output', save_txt=True, source='/content/drive/MyDrive/tick_YOLOv5_model_new_tick_data_augmentation/custom/images/val', update=False, view_img=False, weights=['/content/drive/MyDrive/tick_YoloR_model_new_data_with_augmentation/yolor/runs/train/yolor_p6/weights/best.pt'])\n",
            "Traceback (most recent call last):\n",
            "  File \"detect.py\", line 186, in <module>\n",
            "    detect()\n",
            "  File \"detect.py\", line 44, in detect\n",
            "    model.load_state_dict(torch.load(weights[0], map_location=device)['model'])\n",
            "  File \"/usr/local/lib/python3.7/dist-packages/torch/serialization.py\", line 607, in load\n",
            "    return _load(opened_zipfile, map_location, pickle_module, **pickle_load_args)\n",
            "  File \"/usr/local/lib/python3.7/dist-packages/torch/serialization.py\", line 882, in _load\n",
            "    result = unpickler.load()\n",
            "  File \"/usr/local/lib/python3.7/dist-packages/torch/serialization.py\", line 857, in persistent_load\n",
            "    load_tensor(data_type, size, key, _maybe_decode_ascii(location))\n",
            "  File \"/usr/local/lib/python3.7/dist-packages/torch/serialization.py\", line 845, in load_tensor\n",
            "    storage = zip_file.get_storage_from_record(name, size, dtype).storage()\n",
            "KeyboardInterrupt\n"
          ]
        }
      ]
    },
    {
      "cell_type": "code",
      "metadata": {
        "colab": {
          "base_uri": "https://localhost:8080/"
        },
        "id": "aYKVQDoeew0o",
        "outputId": "58a42f79-005e-46bb-865a-5326e6df81b7"
      },
      "source": [
        "!python detect.py --source /content/drive/MyDrive/tick_YoloR_without_augmentation/DF.jpg --cfg /content/drive/MyDrive/tick_YoloR_model_new_data_with_augmentation/yolor/cfg/yolor_p6.cfg --weights /content/drive/MyDrive/tick_YoloR_model_new_data_with_augmentation/yolor/runs/train/yolor_p6/weights/last_149.pt --conf 0.65 --img-size 640 --device 0 -h\n"
      ],
      "execution_count": null,
      "outputs": [
        {
          "output_type": "stream",
          "name": "stdout",
          "text": [
            "usage: detect.py [-h] [--weights WEIGHTS [WEIGHTS ...]] [--source SOURCE]\n",
            "                 [--output OUTPUT] [--img-size IMG_SIZE]\n",
            "                 [--conf-thres CONF_THRES] [--iou-thres IOU_THRES]\n",
            "                 [--device DEVICE] [--view-img] [--save-txt]\n",
            "                 [--classes CLASSES [CLASSES ...]] [--agnostic-nms]\n",
            "                 [--augment] [--update] [--cfg CFG] [--names NAMES]\n",
            "\n",
            "optional arguments:\n",
            "  -h, --help            show this help message and exit\n",
            "  --weights WEIGHTS [WEIGHTS ...]\n",
            "                        model.pt path(s)\n",
            "  --source SOURCE       source\n",
            "  --output OUTPUT       output folder\n",
            "  --img-size IMG_SIZE   inference size (pixels)\n",
            "  --conf-thres CONF_THRES\n",
            "                        object confidence threshold\n",
            "  --iou-thres IOU_THRES\n",
            "                        IOU threshold for NMS\n",
            "  --device DEVICE       cuda device, i.e. 0 or 0,1,2,3 or cpu\n",
            "  --view-img            display results\n",
            "  --save-txt            save results to *.txt\n",
            "  --classes CLASSES [CLASSES ...]\n",
            "                        filter by class: --class 0, or --class 0 2 3\n",
            "  --agnostic-nms        class-agnostic NMS\n",
            "  --augment             augmented inference\n",
            "  --update              update all models\n",
            "  --cfg CFG             *.cfg path\n",
            "  --names NAMES         *.cfg path\n"
          ]
        }
      ]
    },
    {
      "cell_type": "markdown",
      "metadata": {
        "id": "iptBOLYNW_51"
      },
      "source": [
        "## Ensemble"
      ]
    },
    {
      "cell_type": "code",
      "metadata": {
        "id": "SzgiE1gci9Ky",
        "colab": {
          "base_uri": "https://localhost:8080/"
        },
        "outputId": "7653aa71-1a79-4767-fbae-9baae8d15a34"
      },
      "source": [
        "!pip install ensemble-boxes"
      ],
      "execution_count": null,
      "outputs": [
        {
          "output_type": "stream",
          "name": "stdout",
          "text": [
            "Requirement already satisfied: ensemble-boxes in /usr/local/lib/python3.7/dist-packages (1.0.7)\n",
            "Requirement already satisfied: numpy in /usr/local/lib/python3.7/dist-packages (from ensemble-boxes) (1.19.5)\n",
            "Requirement already satisfied: pandas in /usr/local/lib/python3.7/dist-packages (from ensemble-boxes) (1.1.5)\n",
            "Requirement already satisfied: numba in /usr/local/lib/python3.7/dist-packages (from ensemble-boxes) (0.51.2)\n",
            "Requirement already satisfied: setuptools in /usr/local/lib/python3.7/dist-packages (from numba->ensemble-boxes) (57.4.0)\n",
            "Requirement already satisfied: llvmlite<0.35,>=0.34.0.dev0 in /usr/local/lib/python3.7/dist-packages (from numba->ensemble-boxes) (0.34.0)\n",
            "Requirement already satisfied: python-dateutil>=2.7.3 in /usr/local/lib/python3.7/dist-packages (from pandas->ensemble-boxes) (2.8.2)\n",
            "Requirement already satisfied: pytz>=2017.2 in /usr/local/lib/python3.7/dist-packages (from pandas->ensemble-boxes) (2018.9)\n",
            "Requirement already satisfied: six>=1.5 in /usr/local/lib/python3.7/dist-packages (from python-dateutil>=2.7.3->pandas->ensemble-boxes) (1.15.0)\n"
          ]
        }
      ]
    },
    {
      "cell_type": "code",
      "metadata": {
        "colab": {
          "base_uri": "https://localhost:8080/"
        },
        "id": "X_4Cx3l_nb1I",
        "outputId": "5e12e98d-628f-443f-94cf-648cece05487"
      },
      "source": [
        "!pip install map-boxes"
      ],
      "execution_count": null,
      "outputs": [
        {
          "output_type": "stream",
          "name": "stdout",
          "text": [
            "Requirement already satisfied: map-boxes in /usr/local/lib/python3.7/dist-packages (1.0.5)\n",
            "Requirement already satisfied: pandas in /usr/local/lib/python3.7/dist-packages (from map-boxes) (1.1.5)\n",
            "Requirement already satisfied: numpy in /usr/local/lib/python3.7/dist-packages (from map-boxes) (1.19.5)\n",
            "Requirement already satisfied: pytz>=2017.2 in /usr/local/lib/python3.7/dist-packages (from pandas->map-boxes) (2018.9)\n",
            "Requirement already satisfied: python-dateutil>=2.7.3 in /usr/local/lib/python3.7/dist-packages (from pandas->map-boxes) (2.8.2)\n",
            "Requirement already satisfied: six>=1.5 in /usr/local/lib/python3.7/dist-packages (from python-dateutil>=2.7.3->pandas->map-boxes) (1.15.0)\n"
          ]
        }
      ]
    },
    {
      "cell_type": "code",
      "metadata": {
        "id": "-JfnvRAqhGEy"
      },
      "source": [
        "from sklearn.metrics import accuracy_score, confusion_matrix\n",
        "import matplotlib.pyplot as plt\n",
        "import seaborn as sns"
      ],
      "execution_count": null,
      "outputs": []
    },
    {
      "cell_type": "code",
      "metadata": {
        "id": "4uKtwPZoeVzf"
      },
      "source": [
        "from ensemble_boxes import *"
      ],
      "execution_count": null,
      "outputs": []
    },
    {
      "cell_type": "code",
      "metadata": {
        "id": "Bmlc_B5qnf0o"
      },
      "source": [
        "from map_boxes import mean_average_precision_for_boxes\n",
        "import pandas as pd"
      ],
      "execution_count": null,
      "outputs": []
    },
    {
      "cell_type": "code",
      "metadata": {
        "colab": {
          "base_uri": "https://localhost:8080/"
        },
        "id": "TyG_HPVsbhDV",
        "outputId": "d936586e-775a-4b96-ae74-a9492e2c9736"
      },
      "source": [
        "yolov5_pred = '/content/drive/MyDrive/ensemble_yolov5_yolor/yolov5/runs/detect/exp7/labels/'\n",
        "yolor_pred = '/content/drive/MyDrive/ensemble_yolov5_yolor/yolor/inference/output/output/'\n",
        "truth = '/content/drive/MyDrive/tick_YOLOv5_model_new_tick_data_augmentation/custom/labels/val/'\n",
        "\n",
        "\n",
        "true_box_list = []\n",
        "pred_box_list = []\n",
        "\n",
        "true_label_list = []\n",
        "pred_label_list = []\n",
        "\n",
        "annot_list = []\n",
        "det_list = []\n",
        "\n",
        "\n",
        "for file in os.listdir(yolov5_pred): \n",
        "  if file.endswith('.txt') and file not in ['HSM41.txt', 'HSM61.txt']:\n",
        "    with open(yolov5_pred+file, 'r') as f:\n",
        "      obj = f.readline()\n",
        "      obj = obj.split(\" \")\n",
        "      label = float(obj[0])\n",
        "      bbox = [float(i) for i in obj[1:-1]]\n",
        "      x,y,w,h = bbox\n",
        "      box = [x-w/2, y-h/2, x+w/2, y+h/2]\n",
        "      yolov5_label = label\n",
        "      yolov5_box = box\n",
        "\n",
        "    with open(yolor_pred+file, 'r') as f:\n",
        "      obj = f.readline()\n",
        "      obj = obj.split(\" \")\n",
        "      label = float(obj[0])\n",
        "      bbox = [float(i) for i in obj[1:-1]]\n",
        "      x,y,w,h = bbox\n",
        "      box = [x-w/2, y-h/2, x+w/2, y+h/2]\n",
        "      yolor_label = label\n",
        "      yolor_box = box\n",
        "\n",
        "\n",
        "    boxes_list = [[yolov5_box], [yolor_box]]\n",
        "    labels_list = [[yolov5_label], [yolor_label]]\n",
        "    scores_list = [[0.65], [0.65]]\n",
        "\n",
        "    iou_thr = 0.5\n",
        "    skip_box_thr = 0.0001\n",
        "    sigma = 0.1\n",
        "    weights = [1,2]\n",
        "\n",
        "    boxes, scores, labels = weighted_boxes_fusion(boxes_list, scores_list, labels_list, weights=weights, iou_thr=iou_thr, skip_box_thr=skip_box_thr)\n",
        "    x1,y1,x2,y2 = boxes[0]\n",
        "    # w = abs(x2-x1)\n",
        "    # h = abs(y2-y1)\n",
        "    # x = x1+w/2\n",
        "    # y = y1+h/2\n",
        "    pred_boxes = [x1 ,y1 ,x2 ,y2]\n",
        "    pred_box_list.append(pred_boxes)\n",
        "    pred_label_list.append(labels[0])\n",
        "\n",
        "    # ------------------------\n",
        "\n",
        "    sample = [file, labels[0], 0.65, x1, x2, y1, y2]\n",
        "    det_list.append(sample)\n",
        "\n",
        "    # -----------------------\n",
        "\n",
        "\n",
        "    with open(truth+file, 'r') as f:\n",
        "      obj = f.readline()\n",
        "      obj = obj.split(' ')\n",
        "      true_label = float(obj[0])\n",
        "      true_box = [float(i) for i in obj[1:]]\n",
        "      x,y,w,h = true_box\n",
        "      x1,y1,x2,y2 = x-w/2, y-h/2, x+w/2, y+h/2\n",
        "      true_boxes = [x1,y1,x2,y2]\n",
        "      true_box_list.append(true_boxes)\n",
        "      true_label_list.append(true_label)\n",
        "\n",
        "    # ------------------------\n",
        "\n",
        "    sample = [file, true_label, x1, x2, y1, y2]\n",
        "    annot_list.append(sample)\n",
        "\n",
        "    # -----------------------"
      ],
      "execution_count": null,
      "outputs": [
        {
          "output_type": "stream",
          "name": "stderr",
          "text": [
            "/usr/local/lib/python3.7/dist-packages/ensemble_boxes/ensemble_boxes_wbf.py:64: UserWarning: X1 < 0 in box. Set it to 0.\n",
            "  warnings.warn('X1 < 0 in box. Set it to 0.')\n"
          ]
        }
      ]
    },
    {
      "cell_type": "code",
      "metadata": {
        "colab": {
          "base_uri": "https://localhost:8080/",
          "height": 223
        },
        "id": "HjrTc690aFwp",
        "outputId": "d233ae55-9cac-404f-9e75-a9eea92d3f0d"
      },
      "source": [
        "annot = pd.DataFrame(annot_list, columns=['ImageID','LabelName','XMin','XMax','YMin','YMax'])\n",
        "print(annot.shape)\n",
        "annot.head()"
      ],
      "execution_count": null,
      "outputs": [
        {
          "output_type": "stream",
          "name": "stdout",
          "text": [
            "(79, 6)\n"
          ]
        },
        {
          "output_type": "execute_result",
          "data": {
            "text/html": [
              "<div>\n",
              "<style scoped>\n",
              "    .dataframe tbody tr th:only-of-type {\n",
              "        vertical-align: middle;\n",
              "    }\n",
              "\n",
              "    .dataframe tbody tr th {\n",
              "        vertical-align: top;\n",
              "    }\n",
              "\n",
              "    .dataframe thead th {\n",
              "        text-align: right;\n",
              "    }\n",
              "</style>\n",
              "<table border=\"1\" class=\"dataframe\">\n",
              "  <thead>\n",
              "    <tr style=\"text-align: right;\">\n",
              "      <th></th>\n",
              "      <th>ImageID</th>\n",
              "      <th>LabelName</th>\n",
              "      <th>XMin</th>\n",
              "      <th>XMax</th>\n",
              "      <th>YMin</th>\n",
              "      <th>YMax</th>\n",
              "    </tr>\n",
              "  </thead>\n",
              "  <tbody>\n",
              "    <tr>\n",
              "      <th>0</th>\n",
              "      <td>1 (2).txt</td>\n",
              "      <td>1.0</td>\n",
              "      <td>0.367027</td>\n",
              "      <td>0.617271</td>\n",
              "      <td>0.284538</td>\n",
              "      <td>0.778268</td>\n",
              "    </tr>\n",
              "    <tr>\n",
              "      <th>1</th>\n",
              "      <td>12SF_180.txt</td>\n",
              "      <td>2.0</td>\n",
              "      <td>0.421829</td>\n",
              "      <td>0.651917</td>\n",
              "      <td>0.199771</td>\n",
              "      <td>0.671747</td>\n",
              "    </tr>\n",
              "    <tr>\n",
              "      <th>2</th>\n",
              "      <td>13DF_180.txt</td>\n",
              "      <td>0.0</td>\n",
              "      <td>0.380532</td>\n",
              "      <td>0.818585</td>\n",
              "      <td>0.212881</td>\n",
              "      <td>0.836939</td>\n",
              "    </tr>\n",
              "    <tr>\n",
              "      <th>3</th>\n",
              "      <td>16DF_90.txt</td>\n",
              "      <td>0.0</td>\n",
              "      <td>0.287610</td>\n",
              "      <td>0.690265</td>\n",
              "      <td>0.270566</td>\n",
              "      <td>0.871026</td>\n",
              "    </tr>\n",
              "    <tr>\n",
              "      <th>4</th>\n",
              "      <td>18DF_270.txt</td>\n",
              "      <td>0.0</td>\n",
              "      <td>0.376107</td>\n",
              "      <td>0.610619</td>\n",
              "      <td>0.225991</td>\n",
              "      <td>0.629793</td>\n",
              "    </tr>\n",
              "  </tbody>\n",
              "</table>\n",
              "</div>"
            ],
            "text/plain": [
              "        ImageID  LabelName      XMin      XMax      YMin      YMax\n",
              "0     1 (2).txt        1.0  0.367027  0.617271  0.284538  0.778268\n",
              "1  12SF_180.txt        2.0  0.421829  0.651917  0.199771  0.671747\n",
              "2  13DF_180.txt        0.0  0.380532  0.818585  0.212881  0.836939\n",
              "3   16DF_90.txt        0.0  0.287610  0.690265  0.270566  0.871026\n",
              "4  18DF_270.txt        0.0  0.376107  0.610619  0.225991  0.629793"
            ]
          },
          "metadata": {},
          "execution_count": 226
        }
      ]
    },
    {
      "cell_type": "code",
      "metadata": {
        "colab": {
          "base_uri": "https://localhost:8080/",
          "height": 223
        },
        "id": "d1NLzHyLacrV",
        "outputId": "02be2c56-98c1-45d6-e103-4b18df920243"
      },
      "source": [
        "det = pd.DataFrame(det_list, columns=['ImageID','LabelName','Conf','XMin','XMax','YMin','YMax'])\n",
        "print(det.shape)\n",
        "det.head()"
      ],
      "execution_count": null,
      "outputs": [
        {
          "output_type": "stream",
          "name": "stdout",
          "text": [
            "(79, 7)\n"
          ]
        },
        {
          "output_type": "execute_result",
          "data": {
            "text/html": [
              "<div>\n",
              "<style scoped>\n",
              "    .dataframe tbody tr th:only-of-type {\n",
              "        vertical-align: middle;\n",
              "    }\n",
              "\n",
              "    .dataframe tbody tr th {\n",
              "        vertical-align: top;\n",
              "    }\n",
              "\n",
              "    .dataframe thead th {\n",
              "        text-align: right;\n",
              "    }\n",
              "</style>\n",
              "<table border=\"1\" class=\"dataframe\">\n",
              "  <thead>\n",
              "    <tr style=\"text-align: right;\">\n",
              "      <th></th>\n",
              "      <th>ImageID</th>\n",
              "      <th>LabelName</th>\n",
              "      <th>Conf</th>\n",
              "      <th>XMin</th>\n",
              "      <th>XMax</th>\n",
              "      <th>YMin</th>\n",
              "      <th>YMax</th>\n",
              "    </tr>\n",
              "  </thead>\n",
              "  <tbody>\n",
              "    <tr>\n",
              "      <th>0</th>\n",
              "      <td>1 (2).txt</td>\n",
              "      <td>1.0</td>\n",
              "      <td>0.65</td>\n",
              "      <td>0.022377</td>\n",
              "      <td>0.984568</td>\n",
              "      <td>0.021262</td>\n",
              "      <td>1.000000</td>\n",
              "    </tr>\n",
              "    <tr>\n",
              "      <th>1</th>\n",
              "      <td>12SF_180.txt</td>\n",
              "      <td>2.0</td>\n",
              "      <td>0.65</td>\n",
              "      <td>0.424254</td>\n",
              "      <td>0.655221</td>\n",
              "      <td>0.146091</td>\n",
              "      <td>0.685642</td>\n",
              "    </tr>\n",
              "    <tr>\n",
              "      <th>2</th>\n",
              "      <td>13DF_180.txt</td>\n",
              "      <td>0.0</td>\n",
              "      <td>0.65</td>\n",
              "      <td>0.371399</td>\n",
              "      <td>0.820216</td>\n",
              "      <td>0.198445</td>\n",
              "      <td>0.845450</td>\n",
              "    </tr>\n",
              "    <tr>\n",
              "      <th>3</th>\n",
              "      <td>16DF_90.txt</td>\n",
              "      <td>0.0</td>\n",
              "      <td>0.65</td>\n",
              "      <td>0.260417</td>\n",
              "      <td>0.702546</td>\n",
              "      <td>0.257201</td>\n",
              "      <td>0.867855</td>\n",
              "    </tr>\n",
              "    <tr>\n",
              "      <th>4</th>\n",
              "      <td>18DF_270.txt</td>\n",
              "      <td>0.0</td>\n",
              "      <td>0.65</td>\n",
              "      <td>0.381302</td>\n",
              "      <td>0.607382</td>\n",
              "      <td>0.233882</td>\n",
              "      <td>0.604024</td>\n",
              "    </tr>\n",
              "  </tbody>\n",
              "</table>\n",
              "</div>"
            ],
            "text/plain": [
              "        ImageID  LabelName  Conf      XMin      XMax      YMin      YMax\n",
              "0     1 (2).txt        1.0  0.65  0.022377  0.984568  0.021262  1.000000\n",
              "1  12SF_180.txt        2.0  0.65  0.424254  0.655221  0.146091  0.685642\n",
              "2  13DF_180.txt        0.0  0.65  0.371399  0.820216  0.198445  0.845450\n",
              "3   16DF_90.txt        0.0  0.65  0.260417  0.702546  0.257201  0.867855\n",
              "4  18DF_270.txt        0.0  0.65  0.381302  0.607382  0.233882  0.604024"
            ]
          },
          "metadata": {},
          "execution_count": 227
        }
      ]
    },
    {
      "cell_type": "code",
      "metadata": {
        "id": "l8e-rXNEa2KD"
      },
      "source": [
        "annotations = annot[['ImageID', 'LabelName', 'XMin', 'XMax', 'YMin', 'YMax']].values\n",
        "detections = det[['ImageID', 'LabelName', 'Conf', 'XMin', 'XMax', 'YMin', 'YMax']].values"
      ],
      "execution_count": null,
      "outputs": []
    },
    {
      "cell_type": "code",
      "metadata": {
        "colab": {
          "base_uri": "https://localhost:8080/"
        },
        "id": "k_W0M5ZNbWCd",
        "outputId": "ec62ecf5-ec3c-4a04-e756-77aad6d448ea"
      },
      "source": [
        "mean_ap, average_precisions = mean_average_precision_for_boxes(annotations, detections)\n",
        "print(mean_ap)\n",
        "print()\n",
        "print(average_precisions)"
      ],
      "execution_count": null,
      "outputs": [
        {
          "output_type": "stream",
          "name": "stdout",
          "text": [
            "Number of files in annotations: 79\n",
            "Number of files in predictions: 79\n",
            "Unique classes: 9\n",
            "Detections length: 79\n",
            "Annotations length: 79\n",
            "0.0                            | 1.000000 |      16\n",
            "1.0                            | 0.845029 |      18\n",
            "10.0                           | 1.000000 |       3\n",
            "2.0                            | 1.000000 |      18\n",
            "3.0                            | 0.909091 |      11\n",
            "4.0                            | 0.916667 |       3\n",
            "5.0                            | 0.750000 |       4\n",
            "7.0                            | 1.000000 |       4\n",
            "9.0                            | 1.000000 |       2\n",
            "mAP: 0.935643\n",
            "0.9356429795026288\n",
            "\n",
            "{'0.0': (1.0, 16.0), '1.0': (0.8450292397660819, 18.0), '10.0': (1.0, 3.0), '2.0': (1.0, 18.0), '3.0': (0.9090909090909091, 11.0), '4.0': (0.9166666666666666, 3.0), '5.0': (0.75, 4.0), '7.0': (1.0, 4.0), '9.0': (1.0, 2.0)}\n"
          ]
        }
      ]
    },
    {
      "cell_type": "code",
      "metadata": {
        "colab": {
          "base_uri": "https://localhost:8080/"
        },
        "id": "XsaqQ_n_fGKL",
        "outputId": "3a65264d-9472-432c-a7d7-ce83a3e5b16d"
      },
      "source": [
        "accuracy_score(true_label_list, pred_label_list)"
      ],
      "execution_count": null,
      "outputs": [
        {
          "output_type": "execute_result",
          "data": {
            "text/plain": [
              "0.9746835443037974"
            ]
          },
          "metadata": {},
          "execution_count": 230
        }
      ]
    },
    {
      "cell_type": "code",
      "metadata": {
        "id": "MvsYN38YUuTH"
      },
      "source": [
        "impeltatum_female, marginatum_female, "
      ],
      "execution_count": null,
      "outputs": []
    },
    {
      "cell_type": "code",
      "metadata": {
        "id": "f9ACKuDsUuV6"
      },
      "source": [
        ""
      ],
      "execution_count": null,
      "outputs": []
    },
    {
      "cell_type": "code",
      "metadata": {
        "id": "FhYBTvhbUuZV"
      },
      "source": [
        ""
      ],
      "execution_count": null,
      "outputs": []
    },
    {
      "cell_type": "code",
      "metadata": {
        "id": "2I2mysL8UubI"
      },
      "source": [
        ""
      ],
      "execution_count": null,
      "outputs": []
    }
  ]
}